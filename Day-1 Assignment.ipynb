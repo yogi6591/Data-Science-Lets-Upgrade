{
 "cells": [
  {
   "cell_type": "markdown",
   "metadata": {},
   "source": [
    "Q-1 .Given the following jumbled word, OBANWRI guess the correct English word.\n",
    "\n",
    "Ans  - B. RAINBOW"
   ]
  },
  {
   "cell_type": "code",
   "execution_count": 1,
   "metadata": {},
   "outputs": [
    {
     "name": "stdout",
     "output_type": "stream",
     "text": [
      "LETS UPGRADE\n"
     ]
    }
   ],
   "source": [
    "# Q-2 .Write a program which prints “LETS UPGRADE”. (Please note that you have to\n",
    "# print in ALL CAPS as given)\n",
    "\n",
    "print(\"LETS UPGRADE\")"
   ]
  },
  {
   "cell_type": "code",
   "execution_count": 1,
   "metadata": {},
   "outputs": [
    {
     "name": "stdout",
     "output_type": "stream",
     "text": [
      "12\n",
      "20\n",
      "Profit\n"
     ]
    }
   ],
   "source": [
    "# Q-3. Write a program that takes cost price and selling price as input and displays whether the transaction is a\n",
    "# Profit or a Loss or Neither.\n",
    "\n",
    "cost_price = int(input())\n",
    "sell_price = int(input())\n",
    "\n",
    "diff = sell_price - cost_price\n",
    "\n",
    "if(diff > 0):\n",
    "    print(\"Profit\")\n",
    "elif(diff < 0):\n",
    "    print(\"Loss\")\n",
    "else:\n",
    "    print(\"Neither\")"
   ]
  },
  {
   "cell_type": "code",
   "execution_count": 2,
   "metadata": {},
   "outputs": [
    {
     "name": "stdout",
     "output_type": "stream",
     "text": [
      "10\n",
      "800\n"
     ]
    }
   ],
   "source": [
    "# Q-4. Write a program that takes an amount in Euros as input. You need to find its equivalent in\n",
    "# Rupees and display it. Assume 1 Euro equals Rs. 80.\n",
    "\n",
    "euro = int(input())\n",
    "\n",
    "print(euro * 80)"
   ]
  },
  {
   "cell_type": "code",
   "execution_count": null,
   "metadata": {},
   "outputs": [],
   "source": []
  }
 ],
 "metadata": {
  "kernelspec": {
   "display_name": "Python 3",
   "language": "python",
   "name": "python3"
  },
  "language_info": {
   "codemirror_mode": {
    "name": "ipython",
    "version": 3
   },
   "file_extension": ".py",
   "mimetype": "text/x-python",
   "name": "python",
   "nbconvert_exporter": "python",
   "pygments_lexer": "ipython3",
   "version": "3.7.3"
  }
 },
 "nbformat": 4,
 "nbformat_minor": 2
}
